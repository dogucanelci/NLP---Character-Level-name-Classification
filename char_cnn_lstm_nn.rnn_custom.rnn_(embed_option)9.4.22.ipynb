{
 "cells": [
  {
   "cell_type": "markdown",
   "metadata": {},
   "source": [
    "Author: Doğu Can ELÇİ, MS Student at Istanbul Technical University"
   ]
  },
  {
   "cell_type": "markdown",
   "metadata": {},
   "source": [
    "# <h style= \"color:red;font-size:50px\">NLP FROM SCRATCH: CLASSIFYING NAMES WITH A CHARACTER-LEVEL RNN,Custom-RNN,CNN and Bi-LSTM</h>"
   ]
  },
  {
   "cell_type": "markdown",
   "metadata": {},
   "source": [
    "<l style=\"font-size:30 px;\">In this project, approximately 20 thousand tagged names from 18 languages were trained on a character basis using 8 different models, different batch-sizes and embedding-layers, and the results were shown.</l><br>\n",
    "<br><l style=\"font-size:30px;font-weight:bold\">Used models:</l><br><br>\n",
    "<strong>1- Include Embedding Layer:</strong><br>\n",
    "\n",
    "•&nbsp;CNN | batch-sizes: [128,64,32,16,8]<br>\n",
    "•&nbsp;bi-LSTM | batch-sizes: [128,64,32,16,8]<br>\n",
    "•&nbsp;nn.RNN | batch-sizes: [128,64,32,16,8]<br>\n",
    "•&nbsp;Customized-RNN | batch-sizes: [128]<br>\n",
    "<br>\n",
    "<strong>2- Without Embedding Layer:</strong><br><br>\n",
    "•&nbsp; CNN | batch-sizes: [128,64,32,16,8]<br>\n",
    "•&nbsp;bi-LSTM | batch-sizes: [128,64,32,16,8]<br>\n",
    "•&nbsp;nn.RNN | batch-sizes: [128,64,32,16,8]<br>\n",
    "•&nbsp;Customized-RNN | batch-sizes: [128]<br>\n"
   ]
  },
  {
   "cell_type": "markdown",
   "metadata": {},
   "source": [
    "# 1- Data Reading"
   ]
  },
  {
   "cell_type": "code",
   "execution_count": 1,
   "metadata": {},
   "outputs": [
    {
     "name": "stdout",
     "output_type": "stream",
     "text": [
      "['data/names\\\\Arabic.txt', 'data/names\\\\Chinese.txt', 'data/names\\\\Czech.txt', 'data/names\\\\Dutch.txt', 'data/names\\\\English.txt', 'data/names\\\\French.txt', 'data/names\\\\German.txt', 'data/names\\\\Greek.txt', 'data/names\\\\Irish.txt', 'data/names\\\\Italian.txt', 'data/names\\\\Japanese.txt', 'data/names\\\\Korean.txt', 'data/names\\\\Polish.txt', 'data/names\\\\Portuguese.txt', 'data/names\\\\Russian.txt', 'data/names\\\\Scottish.txt', 'data/names\\\\Spanish.txt', 'data/names\\\\Vietnamese.txt']\n",
      "Slusarski\n"
     ]
    }
   ],
   "source": [
    "%matplotlib inline\n",
    "from __future__ import unicode_literals, print_function, division\n",
    "from io import open\n",
    "import glob\n",
    "import os\n",
    "\n",
    "def findFiles(path): return glob.glob(path)\n",
    "\n",
    "print(findFiles('data/names/*.txt'))\n",
    "\n",
    "import unicodedata\n",
    "import string\n",
    "\n",
    "all_letters = string.ascii_letters + \" .,;'-\" #All upper and lower characters and some punctiations are added in all_letters.\n",
    "                                              #Last character(-) will use as a padding char.\n",
    "n_letters = len(all_letters)    #number of total letters\n",
    "\n",
    "# Turn a Unicode string to plain ASCII, thanks to https://stackoverflow.com/a/518232/2809427\n",
    "def unicodeToAscii(s): # It converts some stranger characters to most similar latin letters.\n",
    "    return ''.join(\n",
    "        c for c in unicodedata.normalize('NFD', s)\n",
    "        if unicodedata.category(c) != 'Mn'\n",
    "        and c in all_letters\n",
    "    )\n",
    "\n",
    "print(unicodeToAscii('Ślusàrski'))  #For example in this name: Ś --> S\n",
    "\n",
    "# Build the category_lines dictionary, a list of names per language\n",
    "category_lines = {}\n",
    "all_categories = []\n",
    "\n",
    "# Read a file and split into lines\n",
    "def readLines(filename):\n",
    "    lines = open(filename, encoding='utf-8').read().strip().split('\\n')\n",
    "    return [unicodeToAscii(line) for line in lines]\n",
    "\n",
    "for filename in findFiles('data/names/*.txt'):\n",
    "    category = os.path.splitext(os.path.basename(filename))[0]\n",
    "    all_categories.append(category)\n",
    "    lines = readLines(filename)\n",
    "    category_lines[category] = lines\n",
    "\n",
    "n_categories = len(all_categories) #number of languages"
   ]
  },
  {
   "cell_type": "code",
   "execution_count": 2,
   "metadata": {},
   "outputs": [],
   "source": [
    "import torch"
   ]
  },
  {
   "cell_type": "markdown",
   "metadata": {},
   "source": [
    "# 2-Preprocessing"
   ]
  },
  {
   "cell_type": "code",
   "execution_count": 3,
   "metadata": {},
   "outputs": [],
   "source": [
    "#Returns an index number as location of any letter in all_letters | Example: letter2index('a') -> 0\n",
    "def letter2index(letter):\n",
    "    letter = unicodeToAscii(letter)\n",
    "    return all_letters.find(letter)"
   ]
  },
  {
   "cell_type": "code",
   "execution_count": 4,
   "metadata": {},
   "outputs": [],
   "source": [
    "#Returns an one-hot encoding tensor letter index is 1 and others are 0.(tensor size: 1,n_letters)\n",
    "def letter2tensor(letter):\n",
    "    idx = letter2index(letter)\n",
    "    torch_vec = torch.zeros(n_letters)\n",
    "    torch_vec[idx] = 1\n",
    "    return torch_vec"
   ]
  },
  {
   "cell_type": "code",
   "execution_count": 5,
   "metadata": {},
   "outputs": [],
   "source": [
    "#Returns a tensor which include one-hot-encoded letter tensors inside.(tensor size: 1,name_length,n_letters)\n",
    "def name2tensor(name):\n",
    "    name_letter_tensor = torch.zeros(1,len(name),n_letters)\n",
    "    for idx,letter in enumerate(name):\n",
    "        name_letter_tensor[0][idx][letter2index(letter)] = 1\n",
    "    return name_letter_tensor"
   ]
  },
  {
   "cell_type": "code",
   "execution_count": 6,
   "metadata": {},
   "outputs": [
    {
     "data": {
      "text/plain": [
       "torch.Size([1, 3, 58])"
      ]
     },
     "execution_count": 6,
     "metadata": {},
     "output_type": "execute_result"
    }
   ],
   "source": [
    "name2tensor('Ali').size()"
   ]
  },
  {
   "cell_type": "code",
   "execution_count": 7,
   "metadata": {},
   "outputs": [],
   "source": [
    "#Assign a number to each language category\n",
    "def category_encoder(categories):\n",
    "    category_dict = {x:idx for idx,x in enumerate(categories)}\n",
    "    return category_dict"
   ]
  },
  {
   "cell_type": "code",
   "execution_count": 8,
   "metadata": {},
   "outputs": [
    {
     "data": {
      "text/plain": [
       "{'Arabic': 0,\n",
       " 'Chinese': 1,\n",
       " 'Czech': 2,\n",
       " 'Dutch': 3,\n",
       " 'English': 4,\n",
       " 'French': 5,\n",
       " 'German': 6,\n",
       " 'Greek': 7,\n",
       " 'Irish': 8,\n",
       " 'Italian': 9,\n",
       " 'Japanese': 10,\n",
       " 'Korean': 11,\n",
       " 'Polish': 12,\n",
       " 'Portuguese': 13,\n",
       " 'Russian': 14,\n",
       " 'Scottish': 15,\n",
       " 'Spanish': 16,\n",
       " 'Vietnamese': 17}"
      ]
     },
     "execution_count": 8,
     "metadata": {},
     "output_type": "execute_result"
    }
   ],
   "source": [
    "category_dict = category_encoder(category_lines.keys())\n",
    "category_dict"
   ]
  },
  {
   "cell_type": "code",
   "execution_count": 9,
   "metadata": {},
   "outputs": [],
   "source": [
    "#Return total counts of each language category\n",
    "def get_category_counts(category_dict):\n",
    "    category_count_dict = {category:len(category_lines[category]) for category in category_dict.keys()}\n",
    "    return category_count_dict"
   ]
  },
  {
   "cell_type": "code",
   "execution_count": 10,
   "metadata": {},
   "outputs": [
    {
     "data": {
      "text/plain": [
       "{'Arabic': 2000,\n",
       " 'Chinese': 268,\n",
       " 'Czech': 519,\n",
       " 'Dutch': 297,\n",
       " 'English': 3668,\n",
       " 'French': 277,\n",
       " 'German': 724,\n",
       " 'Greek': 203,\n",
       " 'Irish': 232,\n",
       " 'Italian': 709,\n",
       " 'Japanese': 991,\n",
       " 'Korean': 94,\n",
       " 'Polish': 139,\n",
       " 'Portuguese': 74,\n",
       " 'Russian': 9384,\n",
       " 'Scottish': 100,\n",
       " 'Spanish': 298,\n",
       " 'Vietnamese': 73}"
      ]
     },
     "execution_count": 10,
     "metadata": {},
     "output_type": "execute_result"
    }
   ],
   "source": [
    "#Total counts of languages\n",
    "category_counts_dict = get_category_counts(category_dict)\n",
    "category_counts_dict"
   ]
  },
  {
   "cell_type": "code",
   "execution_count": 11,
   "metadata": {},
   "outputs": [],
   "source": [
    "#Sort total counts for each category and assign a dict\n",
    "category_counts_sorted = dict(sorted(category_counts_dict.items(), key=lambda x: x[1],reverse=True)) "
   ]
  },
  {
   "cell_type": "markdown",
   "metadata": {},
   "source": [
    "<l style= font-size:20px>As we can see below, Russian,English and Arabic are more than others as number.</l>"
   ]
  },
  {
   "cell_type": "code",
   "execution_count": 12,
   "metadata": {},
   "outputs": [
    {
     "data": {
      "text/plain": [
       "<BarContainer object of 18 artists>"
      ]
     },
     "execution_count": 12,
     "metadata": {},
     "output_type": "execute_result"
    },
    {
     "data": {
      "image/png": "[encoded data removed]",
      "text/plain": [
       "<Figure size 1584x360 with 1 Axes>"
      ]
     },
     "metadata": {
      "needs_background": "light"
     },
     "output_type": "display_data"
    }
   ],
   "source": [
    "import matplotlib.pyplot as plt\n",
    "import numpy as np\n",
    "plt.figure(figsize=(22,5))\n",
    "plt.bar(category_counts_sorted.keys(),category_counts_sorted.values())"
   ]
  },
  {
   "cell_type": "markdown",
   "metadata": {},
   "source": [
    "<l style= \"font-size:20px\">Longest name has 20 char inside.</l>"
   ]
  },
  {
   "cell_type": "code",
   "execution_count": 13,
   "metadata": {},
   "outputs": [
    {
     "data": {
      "text/plain": [
       "20"
      ]
     },
     "execution_count": 13,
     "metadata": {},
     "output_type": "execute_result"
    }
   ],
   "source": [
    "#get the longest name in all names from all categories\n",
    "flatten_name_list = sum([name for name in category_lines.values()],[])\n",
    "max_name_size = sorted([len(name) for name in flatten_name_list])[-1]\n",
    "max_name_size"
   ]
  },
  {
   "cell_type": "markdown",
   "metadata": {},
   "source": [
    "# 3- Dataset Creating"
   ]
  },
  {
   "cell_type": "code",
   "execution_count": 14,
   "metadata": {},
   "outputs": [
    {
     "data": {
      "text/plain": [
       "20050"
      ]
     },
     "execution_count": 14,
     "metadata": {},
     "output_type": "execute_result"
    }
   ],
   "source": [
    "total_name_size = sum(category_counts_sorted.values()) # total name number: 20050\n",
    "X_tensor = [] #Include all one-hot-encoded name tensors \n",
    "y_tensor = [] #Include all name category numb tensors (target)\n",
    "for category in category_lines.keys():\n",
    "    for idx,name in enumerate(category_lines[category]): #This loop is used for make names a fixed size for fixed hidden layer sizes in nn.\n",
    "        name = name + '-'*(20 - len(name)) # padding char is selected as '-'.\n",
    "        X_tensor.append(name2tensor(name))\n",
    "        y_tensor.append(torch.tensor(category_dict[category]).view(1,))\n",
    "len(X_tensor)"
   ]
  },
  {
   "cell_type": "code",
   "execution_count": 15,
   "metadata": {},
   "outputs": [
    {
     "data": {
      "text/plain": [
       "torch.Size([20050, 20, 58])"
      ]
     },
     "execution_count": 15,
     "metadata": {},
     "output_type": "execute_result"
    }
   ],
   "source": [
    "X_tensor_reshaped = torch.concat(X_tensor, dim=0) #list to tensor\n",
    "X_tensor_reshaped.size()"
   ]
  },
  {
   "cell_type": "code",
   "execution_count": 16,
   "metadata": {},
   "outputs": [
    {
     "data": {
      "text/plain": [
       "torch.Size([20050])"
      ]
     },
     "execution_count": 16,
     "metadata": {},
     "output_type": "execute_result"
    }
   ],
   "source": [
    "y_tensor_reshaped = torch.concat(y_tensor,dim=0) #list to tensor\n",
    "y_tensor_reshaped.size()"
   ]
  },
  {
   "cell_type": "code",
   "execution_count": 17,
   "metadata": {},
   "outputs": [],
   "source": [
    "#Feature and target tensors are splited as train and test set as rate %10.\n",
    "from sklearn.model_selection import train_test_split\n",
    "X_train, X_test , y_train ,y_test = train_test_split(X_tensor_reshaped.numpy(),y_tensor_reshaped.numpy(),test_size=0.1,random_state=42,stratify=y_tensor_reshaped.numpy())"
   ]
  },
  {
   "cell_type": "code",
   "execution_count": 18,
   "metadata": {},
   "outputs": [
    {
     "data": {
      "text/plain": [
       "((18045, 20, 58), (2005, 20, 58), (18045,), (2005,))"
      ]
     },
     "execution_count": 18,
     "metadata": {},
     "output_type": "execute_result"
    }
   ],
   "source": [
    "X_train.shape , X_test.shape , y_train.shape , y_test.shape"
   ]
  },
  {
   "cell_type": "code",
   "execution_count": 19,
   "metadata": {},
   "outputs": [],
   "source": [
    "import torch.nn as nn\n",
    "import torch.nn.functional as F\n",
    "import torch\n",
    "import numpy as np\n",
    "import matplotlib.pyplot as plt\n",
    "from torch.utils.data import TensorDataset, DataLoader"
   ]
  },
  {
   "cell_type": "code",
   "execution_count": 20,
   "metadata": {},
   "outputs": [],
   "source": [
    "#Train and test samples are splited as batch_size for preparing to training and testing.\n",
    "def train_test_loader(X_train,y_train,X_test,y_test,batch_size):\n",
    "    train_data = TensorDataset(torch.tensor(X_train), torch.tensor(y_train))\n",
    "    train_loader = DataLoader(train_data, shuffle=False, batch_size=batch_size,drop_last=True)\n",
    "\n",
    "    valid_data = TensorDataset(torch.tensor(X_test), torch.tensor(y_test))\n",
    "    valid_loader = DataLoader(valid_data, shuffle=False, batch_size=batch_size,drop_last=True)\n",
    "    return train_loader,valid_loader"
   ]
  },
  {
   "cell_type": "code",
   "execution_count": 21,
   "metadata": {},
   "outputs": [],
   "source": [
    "#This is global variable for embedding layer size for all models.\n",
    "EMBED_SIZE = 10 "
   ]
  },
  {
   "cell_type": "markdown",
   "metadata": {},
   "source": [
    "# 4- Model Creating"
   ]
  },
  {
   "cell_type": "code",
   "execution_count": 22,
   "metadata": {},
   "outputs": [],
   "source": [
    "class LSTMModel(nn.Module):\n",
    "  def __init__(self, input_size, hidden_size, num_layers):\n",
    "    super(LSTMModel, self).__init__()\n",
    "    self.num_layers = num_layers\n",
    "    self.hidden_size = hidden_size\n",
    "    self.lstm = nn.LSTM(input_size = input_size, hidden_size = hidden_size, num_layers = num_layers, batch_first = True, bidirectional = True)\n",
    "    self.in2output = nn.Linear(hidden_size + hidden_size, n_categories)\n",
    "\n",
    "  def forward(self, x, hidden_state):\n",
    "    #print(\"x: \", x.shape)  # x: torch.Size([128, 20, 58]) | (batch_size, seq_len, features)\n",
    "    #hidden_state[0].size() -> hidden_h0: torch.Size([2, 128, 128])\n",
    "    #hidden_state[1].size() -> hidden_c0: torch.Size([2, 128, 128])\n",
    "    # 128 + 128 because it is bi-directional model !\n",
    "    # c0(cell state) + h0(hidden state) --> 128 (combined by nn.LSTM just like nn.RNN)\n",
    "    output, hidden_state = self.lstm(x, hidden_state) #output.size() -> torch.Size([128, 20, 256])(128 short + 128 long)\n",
    "                                                      #hidden_state[0].size() -> hidden_h0: torch.Size([2, 128, 128])\n",
    "                                                      #hidden_state[1].size() -> hidden_c0: torch.Size([2, 128, 128])\n",
    "    output = self.in2output(output[:, -1, :]) #last char embed of name include all information of previous ones.\n",
    "                                              #output.size() -> 128,256(128 short + 128 long)\n",
    "    return output\n",
    "\n",
    "  def init_hidden(self, batch_size):\n",
    "    # Create two new tensors with sizes n_layers x batch_size x hidden_dim,\n",
    "    # initialized to zero, for hidden state and cell state of LSTM\n",
    "    h0 = torch.zeros(self.num_layers*2,batch_size,self.hidden_size)\n",
    "    c0 = torch.zeros(self.num_layers*2,batch_size,self.hidden_size)\n",
    "    hidden = (h0,c0)\n",
    "    return hidden"
   ]
  },
  {
   "cell_type": "code",
   "execution_count": 23,
   "metadata": {},
   "outputs": [],
   "source": [
    "class LSTMModel_Embed(nn.Module):\n",
    "  def __init__(self, input_size, hidden_size, num_layers):\n",
    "    super(LSTMModel_Embed, self).__init__()\n",
    "    self.num_layers = num_layers\n",
    "    self.hidden_size = hidden_size\n",
    "    self.embed = nn.Embedding(input_size, EMBED_SIZE)\n",
    "    self.lstm = nn.LSTM(input_size = EMBED_SIZE, hidden_size = hidden_size, num_layers = num_layers, batch_first = True, bidirectional = True)\n",
    "    self.in2output = nn.Linear(hidden_size + hidden_size, n_categories)\n",
    "\n",
    "  def forward(self, x, hidden_state):\n",
    "\n",
    "    argmax_x = torch.argmax(x,dim=2)\n",
    "    embed = self.embed(argmax_x)\n",
    "    output, hidden_state = self.lstm(embed, hidden_state)\n",
    "\n",
    "    output = self.in2output(output[:, -1, :]) #last char embed of name include all information of previous ones.\n",
    "    return output\n",
    "\n",
    "  def init_hidden(self, batch_size):\n",
    "    # Initialization two new tensors which are cell and hidden state.\n",
    "    h0 = torch.zeros(self.num_layers*2,batch_size,self.hidden_size)\n",
    "    c0 = torch.zeros(self.num_layers*2,batch_size,self.hidden_size)\n",
    "    hidden = (h0,c0)\n",
    "    return hidden"
   ]
  },
  {
   "cell_type": "code",
   "execution_count": 24,
   "metadata": {},
   "outputs": [],
   "source": [
    "class RNNModel(nn.Module):\n",
    "  def __init__(self, input_size, hidden_size, num_layers):\n",
    "    super(RNNModel, self).__init__()\n",
    "    self.num_layers = num_layers\n",
    "    self.hidden_size = hidden_size\n",
    "    self.rnn1 = nn.RNN(input_size = input_size, hidden_size = hidden_size, num_layers = num_layers, batch_first = True)\n",
    "    self.in2output = nn.Linear(hidden_size, n_categories)\n",
    "\n",
    "  def forward(self, x, hidden_state):\n",
    "    # 128 + 128 her türlü 256 olmak zorunda !!! *** \n",
    "    output, hidden_state = self.rnn1(x, hidden_state) # nn.RNN module combines 58 and 128 somehow and output size is also 128.\n",
    "    output = self.in2output(output[:, -1, :]) #last char embed of name include all information of previous ones.\n",
    "    return output\n",
    "\n",
    "  def init_hidden(self, batch_size):\n",
    "    h0 = torch.zeros(self.num_layers,batch_size,self.hidden_size)\n",
    "    hidden = h0\n",
    "    return hidden"
   ]
  },
  {
   "cell_type": "code",
   "execution_count": 25,
   "metadata": {},
   "outputs": [],
   "source": [
    "class RNNModel_Embed(nn.Module):\n",
    "  def __init__(self, input_size, hidden_size, num_layers):\n",
    "    super(RNNModel_Embed, self).__init__()\n",
    "    self.num_layers = num_layers\n",
    "    self.hidden_size = hidden_size\n",
    "    self.embed = nn.Embedding(input_size, EMBED_SIZE)\n",
    "    self.rnn1 = nn.RNN(input_size = EMBED_SIZE, hidden_size = hidden_size, num_layers = num_layers, batch_first = True)\n",
    "    self.in2output = nn.Linear(hidden_size, n_categories)\n",
    "\n",
    "  def forward(self, x, hidden_state):\n",
    "\n",
    "    # 128 + 128 her türlü 256 olmak zorunda !!! *** \n",
    "    x_argmax = torch.argmax(x,dim=2)   #one_hot to index vector | torch.Size([128, 20, 58]) --> torch.Size([128, 20])    \n",
    "    embed = self.embed(x_argmax)       #embedded.size() --> torch.Size([128, 20, 10])\n",
    "    output, hidden_state = self.rnn1(embed, hidden_state)\n",
    "\n",
    "    output = self.in2output(output[:, -1, :]) #last char embed of name include all information of previous ones.\n",
    "\n",
    "    return output\n",
    "\n",
    "  def init_hidden(self, batch_size):\n",
    "    # initialization of new hidden state tensor\n",
    "    h0 = torch.zeros(self.num_layers,batch_size,self.hidden_size)\n",
    "    hidden = h0\n",
    "    return hidden"
   ]
  },
  {
   "cell_type": "code",
   "execution_count": 26,
   "metadata": {},
   "outputs": [],
   "source": [
    "import torch.nn as nn\n",
    "\n",
    "class CustomRNN(nn.Module):\n",
    "    def __init__(self, input_size, hidden_size):\n",
    "        super(CustomRNN, self).__init__()\n",
    "        self.hidden_size = hidden_size\n",
    "        self.i2h = nn.Linear(input_size + hidden_size, hidden_size)\n",
    "        self.i2o = nn.Linear(input_size + hidden_size, n_categories)\n",
    "        self.sigmoid = nn.Sigmoid()\n",
    "\n",
    "    def forward(self, input, hidden):\n",
    "        combined1 = torch.cat((input,hidden.view(self.hidden_size)),0)\n",
    "\n",
    "        hidden = self.i2h(combined1)\n",
    "        output = self.i2o(combined1)\n",
    "        return output, hidden\n",
    "\n",
    "    def init_hidden(self):\n",
    "        return torch.zeros(1,self.hidden_size)"
   ]
  },
  {
   "cell_type": "code",
   "execution_count": 27,
   "metadata": {},
   "outputs": [],
   "source": [
    "import torch.nn as nn\n",
    "\n",
    "class CustomRNN_Embed(nn.Module):\n",
    "    def __init__(self, input_size, hidden_size):\n",
    "        super(CustomRNN_Embed, self).__init__()\n",
    "        self.hidden_size = hidden_size\n",
    "        #self.vocab_size = vocab_size\n",
    "        self.embed = nn.Embedding(input_size, EMBED_SIZE) #one_hot to index vector | torch.Size([1, 58]) --> torch.Size([1, 20])\n",
    "        self.i2h = nn.Linear(EMBED_SIZE + hidden_size, hidden_size)\n",
    "        self.i2o = nn.Linear(EMBED_SIZE + hidden_size, n_categories)\n",
    "        self.sigmoid = nn.Sigmoid()\n",
    "\n",
    "    def forward(self, input, hidden):\n",
    "        x_argmax = torch.argmax(input,dim=0)\n",
    "        embeds = self.embed(x_argmax)\n",
    "        combined1 = torch.cat((embeds,hidden.view(self.hidden_size)),0)\n",
    "\n",
    "        hidden = self.i2h(combined1)\n",
    "        output = self.i2o(combined1)\n",
    "        return output, hidden\n",
    "\n",
    "    def init_hidden(self):\n",
    "        return torch.zeros(1,self.hidden_size)"
   ]
  },
  {
   "cell_type": "code",
   "execution_count": 28,
   "metadata": {},
   "outputs": [],
   "source": [
    "from torch import nn\n",
    "from torch.nn import functional as F\n",
    "class CNNModel(nn.Module):\n",
    "    def __init__(self,input_size, n_filters, filter_sizes):\n",
    "        super().__init__()\n",
    "        self.conv1 = nn.Conv1d(input_size,n_filters, kernel_size=filter_sizes, padding='same') #(58,20) --> (4,20) | padding: return same size\n",
    "        self.pool = nn.MaxPool1d(kernel_size=2) #(4,20) --> (4,10)\n",
    "        self.fc1 = nn.Linear(n_filters*10, n_categories) #size of output linear layer has to assign manually before.\n",
    "                                                         # 40 -> 18\n",
    "    def forward(self, x):\n",
    "        x = x.permute(0, 2, 1) #torch.Size([128, 20, 58]) --> torch.Size([128, 58, 20])\n",
    "        conved = F.relu(self.conv1(x)) #Mapping with Convolutional layer and activated with ReLu | conved.size()-->torch.Size([128, 4, 20])\n",
    "        pooled = self.pool(conved)  #decrease matrix size with selection of max cells | torch.Size([128, 4, 20]) --> torch.Size([128, 4, 10])\n",
    "        x = torch.flatten(pooled,1) # make array to 1d | x.size() --> torch.Size([128, 40])\n",
    "        x = F.relu(self.fc1(x)) #1d flatted-input activated with ReLu\n",
    "        return x"
   ]
  },
  {
   "cell_type": "code",
   "execution_count": 29,
   "metadata": {},
   "outputs": [],
   "source": [
    "from torch import nn\n",
    "from torch.nn import functional as F\n",
    "class CNNModel_Embed(nn.Module):\n",
    "    def __init__(self,input_size, n_filters, filter_sizes):\n",
    "        super().__init__()\n",
    "        self.embed = nn.Embedding(input_size, EMBED_SIZE) #(max_name_size,n_letters) --> (max_name_size,embedded_size)\n",
    "                                                          #(20,58) --> (20,10)\n",
    "        self.conv1 = nn.Conv1d(EMBED_SIZE,n_filters, kernel_size=filter_sizes, padding='same') #(58,20) --> (4,20) | padding: return same size\n",
    "        self.pool = nn.MaxPool1d(kernel_size=2) #(4,20) --> (4,10)\n",
    "        self.fc1 = nn.Linear(n_filters*10, n_categories) #size of output linear layer has to assign manually before.\n",
    "                                                         # 40 -> 18\n",
    "\n",
    "    def forward(self, x):\n",
    "        x_argmax = torch.argmax(x,dim=2)     #one_hot to index vector | torch.Size([128, 20, 58]) --> torch.Size([128, 20])\n",
    "        embedded = self.embed(x_argmax)      #embedded.size() --> torch.Size([128, 20, 10])\n",
    "        embedded = embedded.permute(0, 2, 1) #torch.Size([128, 20, 10]) --> torch.Size([128, 10, 20])\n",
    "        conved = F.relu(self.conv1(embedded)) #Mapping with Convolutional layer and activated with ReLu | conved.size()-->torch.Size([128, 4, 20])\n",
    "        pooled = self.pool(conved) #decrease matrix size with selection of max cells | torch.Size([128, 4, 20]) --> torch.Size([128, 4, 10])\n",
    "        x = torch.flatten(pooled,1) # make array to 1d | x.size() --> torch.Size([128, 40])\n",
    "        x = F.relu(self.fc1(x)) # 1d flatted-input activated with ReLu\n",
    "        return x"
   ]
  },
  {
   "cell_type": "code",
   "execution_count": 30,
   "metadata": {},
   "outputs": [],
   "source": [
    "# Return loss function(CrossEntropyLoss), model(nn.CNN) with or without Embedding layer and optimizer function(Adam Optimizer) \n",
    "def create_cnn_model(is_embedding = False):\n",
    "    n_filters = 4 #number of filters\n",
    "    filter_size = 2 # 1d filter progress with 2 window-size (for this project,2 char)\n",
    "    learning_rate = 0.001 #step size of current update process of weights\n",
    "    epochs =  10 #number of updating process with all training samples\n",
    "    if is_embedding: #CNN model with Embedding layer\n",
    "        model = CNNModel_Embed(n_letters , n_filters, filter_size)\n",
    "    else:  #CNN model without Embedding layer\n",
    "        model = CNNModel(n_letters , n_filters, filter_size)\n",
    "    optimizer = torch.optim.Adam(model.parameters(), lr = learning_rate)\n",
    "\n",
    "    # defining loss function\n",
    "    loss_func = nn.CrossEntropyLoss()\n",
    "\n",
    "    return model,optimizer,loss_func,epochs"
   ]
  },
  {
   "cell_type": "code",
   "execution_count": 31,
   "metadata": {},
   "outputs": [],
   "source": [
    "# Return loss function(CrossEntropyLoss), model(nn.LSTM) with or without Embedding layer and optimizer function(Adam Optimizer)\n",
    "def create_lstm_model(is_embedding = False):\n",
    "    hidden_size = 128\n",
    "    learning_rate = 0.001\n",
    "    epochs = 10\n",
    "    if is_embedding:  #LSTM model with Embedding layer\n",
    "        model = LSTMModel_Embed(n_letters , hidden_size, 1)\n",
    "    else:  #LSTM model without Embedding layer\n",
    "        model = LSTMModel(n_letters , hidden_size, 1)\n",
    "    optimizer = torch.optim.Adam(model.parameters(), lr = learning_rate)\n",
    "\n",
    "    # defining loss function\n",
    "    loss_func = nn.CrossEntropyLoss()\n",
    "    #loss_fn = nn.NLLLoss()\n",
    "    return model,optimizer,loss_func,epochs"
   ]
  },
  {
   "cell_type": "code",
   "execution_count": 32,
   "metadata": {},
   "outputs": [],
   "source": [
    "# Return loss function(CrossEntropyLoss), model(nn.RNN) with or without Embedding layer and optimizer function(Adam Optimizer)\n",
    "def create_rnn_model(is_embedding = False):\n",
    "    hidden_size = 128\n",
    "    learning_rate = 0.001\n",
    "    epochs = 10\n",
    "    if is_embedding:  #nn.RNN model with Embedding layer\n",
    "        model = RNNModel_Embed(n_letters , hidden_size, 1)\n",
    "    else:  #nn.RNN model with Embedding layer\n",
    "        model = RNNModel(n_letters , hidden_size, 1)\n",
    "    optimizer = torch.optim.Adam(model.parameters(), lr = learning_rate)\n",
    "\n",
    "    # defining loss function\n",
    "    loss_func = nn.CrossEntropyLoss()\n",
    "    #loss_fn = nn.NLLLoss()\n",
    "    return model,optimizer,loss_func,epochs"
   ]
  },
  {
   "cell_type": "code",
   "execution_count": 33,
   "metadata": {},
   "outputs": [],
   "source": [
    "# Return loss function(CrossEntropyLoss), model(customized RNN) with or without Embedding layer and optimizer function(Adam Optimizer)\n",
    "def create_custom_rnn_model(is_embedding = False):\n",
    "    hidden_size = 128\n",
    "    learning_rate = 0.001\n",
    "    epochs = 10\n",
    "    if is_embedding:  #Customized RNN model with Embedding layer\n",
    "        model = CustomRNN_Embed(n_letters,hidden_size)\n",
    "    else:  #Customized RNN model with Embedding layer\n",
    "        model = CustomRNN(n_letters,hidden_size)\n",
    "    optimizer = torch.optim.Adam(model.parameters(), lr = learning_rate)\n",
    "\n",
    "    # define loss function\n",
    "    loss_func = nn.CrossEntropyLoss()\n",
    "    return model,optimizer,loss_func,epochs"
   ]
  },
  {
   "cell_type": "code",
   "execution_count": 34,
   "metadata": {},
   "outputs": [],
   "source": [
    "def accuracy_2(pred,label): #Return how much true label match with predictions(max prob. class index)\n",
    "    return torch.sum(torch.argmax(pred,dim=1) == label).item()"
   ]
  },
  {
   "cell_type": "markdown",
   "metadata": {},
   "source": [
    "# 5- Training and Evaluation"
   ]
  },
  {
   "cell_type": "code",
   "execution_count": 35,
   "metadata": {},
   "outputs": [],
   "source": [
    "def cnn_train_test_process(has_embedding=False):\n",
    "\n",
    "  batch_list = [128,64,16,8]\n",
    "  main_accuracy_dict = {} #accuracy dict (keys: batch_sizes, values: accuracy)\n",
    "  for batch_i in batch_list:\n",
    "    #model,optimizer_128,loss_func = create_model()\n",
    "    model,optimizer_128,loss_func,epochs = create_cnn_model(has_embedding)\n",
    "    batch_size = batch_i #current batch-size\n",
    "    train_loader,valid_loader = train_test_loader(X_train,y_train,X_test,y_test,batch_size) #preparing train and test datasets\n",
    "    best_accuracy = 0 #best accuracy of each batch_size\n",
    "\n",
    "    for i in range(epochs): #epoch-i\n",
    "      total_train_loss = 0\n",
    "      for batch in (train_loader): #batch[0].size = torch.Size([128, 20, 58]) , batch[1].size = torch.Size([128])\n",
    "        model.zero_grad()\n",
    "        # forward process according to batch-size\n",
    "        outputs1 = model(batch[0])\n",
    "        # computing training loss\n",
    "        loss = loss_func(outputs1, batch[1])\n",
    "        total_train_loss += loss.item()\n",
    "        # backward process according to batch-size\n",
    "        loss.backward()\n",
    "        # updating parameters\n",
    "        optimizer_128.step()\n",
    "\n",
    "      # calculating average train loss\n",
    "      avg_train_loss = total_train_loss / len(train_loader)\n",
    "\n",
    "      val_accuracy = [] #validation accuracy list\n",
    "      val_loss = [] #validation loss list\n",
    "      for batch in valid_loader:\n",
    "        # gradients ignored for a while for testing (it speeds up computation)\n",
    "        with torch.no_grad():\n",
    "            pred = model(batch[0])\n",
    "        # computing loss\n",
    "        loss = loss_func(outputs1, batch[1])\n",
    "        val_loss.append(loss.item())\n",
    "  #Validation process\n",
    "        acc = accuracy_2(pred,batch[1])\n",
    "        val_accuracy.append(acc/batch_size)\n",
    "      val_mean_acc = np.mean(val_accuracy)\n",
    "      val_mean_loss = np.mean(val_loss)\n",
    "\n",
    "      if val_mean_acc > best_accuracy:\n",
    "          best_accuracy = val_mean_acc\n",
    "\n",
    "      # print performance\n",
    "      print(f'Epoch no: {i+1} | Train_loss: {round(avg_train_loss,5)} | Val_loss: {round(val_mean_loss,5)} | Val_Accuracy: {round(val_mean_acc,2)}')\n",
    "    print(f\"Best accuracy is : %{best_accuracy*100} for batch_size ={batch_size}\")\n",
    "    main_accuracy_dict[batch_size] = best_accuracy\n",
    "  return main_accuracy_dict"
   ]
  },
  {
   "cell_type": "code",
   "execution_count": 36,
   "metadata": {},
   "outputs": [],
   "source": [
    "def lstm_train_test_process(has_embedding=False):\n",
    "\n",
    "  batch_list = [128,64,16,8]\n",
    "  main_accuracy_dict = {}\n",
    "  for batch_i in batch_list:\n",
    "    model,optimizer_128,loss_func,epochs = create_lstm_model(has_embedding)\n",
    "    batch_size = batch_i\n",
    "    train_loader,valid_loader = train_test_loader(X_train,y_train,X_test,y_test,batch_size)\n",
    "    best_accuracy = 0 #best accuracy of each batch_size\n",
    "\n",
    "    for i in range(epochs):\n",
    "      total_train_loss = 0\n",
    "      for batch in train_loader: #batch[0].size = torch.Size([128, 20, 58]) , batch[1].size = torch.Size([128])\n",
    "        model.zero_grad()\n",
    "        # performing forward pass\n",
    "        init_hidden = model.init_hidden(batch_size)\n",
    "        #logits = model(b_input_ids,init_hidden)\n",
    "        outputs1 = model(batch[0],init_hidden)\n",
    "        # computing loss\n",
    "        loss = loss_func(outputs1, batch[1])\n",
    "        total_train_loss += loss.item()\n",
    "        # performing a backward pass\n",
    "        loss.backward()\n",
    "        # update parameters\n",
    "        optimizer_128.step()\n",
    "\n",
    "      # calculate the average loss\n",
    "      avg_train_loss = total_train_loss / len(train_loader)\n",
    "\n",
    "\n",
    "      val_accuracy = []\n",
    "      val_loss = []\n",
    "      for batch in valid_loader:\n",
    "        # gradients ignored for a while for testing (it speeds up computation)\n",
    "        with torch.no_grad():\n",
    "            init_hidden = model.init_hidden(batch_size)\n",
    "            pred = model(batch[0],init_hidden)\n",
    "        # computing loss\n",
    "        loss = loss_func(outputs1, batch[1])\n",
    "        val_loss.append(loss.item())\n",
    "  #Validation process\n",
    "        acc = accuracy_2(pred,batch[1])\n",
    "        val_accuracy.append(acc/batch_size)\n",
    "      val_mean_acc = np.mean(val_accuracy)\n",
    "      val_mean_loss = np.mean(val_loss)\n",
    "\n",
    "      if val_mean_acc > best_accuracy:\n",
    "          best_accuracy = val_mean_acc\n",
    "\n",
    "      # print performance\n",
    "      print(f'Epoch no: {i+1} | Train_loss: {round(avg_train_loss,5)} | Val_loss: {round(val_mean_loss,5)} | Val_Accuracy: {round(val_mean_acc,2)}')\n",
    "    print(f\"Best accuracy is : %{best_accuracy*100} for batch_size ={batch_size}\")\n",
    "    main_accuracy_dict[batch_size] = best_accuracy\n",
    "  return main_accuracy_dict"
   ]
  },
  {
   "cell_type": "code",
   "execution_count": 37,
   "metadata": {},
   "outputs": [],
   "source": [
    "def rnn_train_test_process(has_embedding=False):\n",
    "  batch_list = [128,64,16,8]\n",
    "  main_accuracy_dict = {}\n",
    "  for batch_i in batch_list:\n",
    "    model,optimizer,loss_func,epochs = create_rnn_model(has_embedding)\n",
    "    batch_size = batch_i\n",
    "    train_loader,valid_loader = train_test_loader(X_train,y_train,X_test,y_test,batch_size)\n",
    "    best_accuracy = 0 #best accuracy of each batch_size\n",
    "\n",
    "    for i in range(epochs):\n",
    "      total_train_loss = 0\n",
    "      for batch in train_loader: #batch[0].size = torch.Size([128, 20, 58]) , batch[1].size = torch.Size([128])\n",
    "        model.zero_grad()\n",
    "        # performing forward pass\n",
    "        init_hidden = model.init_hidden(batch_size) # init_hidden.size() --> torch.Size([1, 64, 128]) (hidden_layer_num,batch_size,hidden_size)\n",
    "        #outputs1 = model(b_input_ids,init_hidden)\n",
    "        outputs1 = model(batch[0],init_hidden)\n",
    "        # computing loss\n",
    "        loss = loss_func(outputs1, batch[1])\n",
    "        total_train_loss += loss.item()\n",
    "        # performing a backward pass\n",
    "        loss.backward()\n",
    "        # update parameters\n",
    "        optimizer.step()\n",
    "\n",
    "      # calculate the average loss\n",
    "      avg_train_loss = total_train_loss / len(train_loader)\n",
    "\n",
    "\n",
    "      val_accuracy = []\n",
    "      val_loss = []\n",
    "      for batch in valid_loader:\n",
    "        # gradients ignored for a while for testing (it speeds up computation)\n",
    "        with torch.no_grad():\n",
    "            init_hidden = model.init_hidden(batch_size)\n",
    "            pred = model(batch[0],init_hidden)\n",
    "        # computing loss\n",
    "        loss = loss_func(outputs1, batch[1])\n",
    "        val_loss.append(loss.item())\n",
    "  #Validation process\n",
    "        acc = accuracy_2(pred,batch[1])\n",
    "        val_accuracy.append(acc/batch_size)\n",
    "      val_mean_acc = np.mean(val_accuracy)\n",
    "      val_mean_loss = np.mean(val_loss)\n",
    "      if val_mean_acc > best_accuracy:\n",
    "          best_accuracy = val_mean_acc\n",
    "\n",
    "      # print performance\n",
    "      print(f'Epoch no: {i+1} | Train_loss: {round(avg_train_loss,5)} | Val_loss: {round(val_mean_loss,5)} | Val_Accuracy: {round(val_mean_acc,2)}')\n",
    "    print(f\"Best accuracy is : %{best_accuracy*100} for batch_size ={batch_size}\")\n",
    "    main_accuracy_dict[batch_size] = best_accuracy\n",
    "  return main_accuracy_dict"
   ]
  },
  {
   "cell_type": "code",
   "execution_count": 38,
   "metadata": {},
   "outputs": [],
   "source": [
    "def custom_rnn_train_test_process(has_embedding=False):\n",
    "  batch_list = [128]\n",
    "  main_accuracy_dict = {}\n",
    "  for batch_i in batch_list:\n",
    "    batch_size = batch_i\n",
    "    model,optimizer_128,loss_func,epochs = create_custom_rnn_model(has_embedding)\n",
    "    train_loader,valid_loader = train_test_loader(X_train,y_train,X_test,y_test,batch_size)\n",
    "    best_accuracy = 0 #best accuracy of each batch_size\n",
    "\n",
    "    for i in range(epochs):\n",
    "      # tracking time and loss\n",
    "      total_train_loss = 0\n",
    "      for batch in train_loader: #batch[0].size = torch.Size([128, 20, 58]) , batch[1].size = torch.Size([128])\n",
    "        model.zero_grad() #reset gradients after each update\n",
    "        # performing forward pass\n",
    "        init_hidden = model.init_hidden()\n",
    "        hidden = init_hidden\n",
    "        outputs1_tensor = torch.zeros(batch_size,n_categories)\n",
    "        for idx,name in enumerate(batch[0]):\n",
    "          for char in name:\n",
    "            outputs1,hidden = model(char,hidden)\n",
    "          outputs1_tensor[idx] = outputs1\n",
    "        # computing loss\n",
    "        loss = loss_func(outputs1_tensor, batch[1])\n",
    "        total_train_loss += loss.item()\n",
    "        # performing a backward pass\n",
    "        loss.backward()\n",
    "        # update parameters\n",
    "        optimizer_128.step()\n",
    "\n",
    "      # calculate the average loss\n",
    "      avg_train_loss = total_train_loss / len(train_loader)\n",
    "\n",
    "      val_accuracy = []\n",
    "      val_loss = []\n",
    "      for batch in valid_loader:\n",
    "        # gradients ignored for a while for testing (it speeds up computation)\n",
    "        with torch.no_grad():\n",
    "            init_hidden = model.init_hidden()\n",
    "            pred_tensor = torch.zeros(batch_size,n_categories)\n",
    "            for idx,name in enumerate(batch[0]):\n",
    "              for char in name:\n",
    "                outputs1,hidden = model(char,hidden)\n",
    "              pred_tensor[idx] = outputs1\n",
    "        # computing loss\n",
    "        loss = loss_func(pred_tensor, batch[1])\n",
    "        val_loss.append(loss.item())\n",
    "    #Validation process\n",
    "        acc = accuracy_2(pred_tensor,batch[1])\n",
    "        val_accuracy.append(acc/batch_size)\n",
    "      val_mean_acc = np.mean(val_accuracy)\n",
    "      val_mean_loss = np.mean(val_loss)\n",
    "      if val_mean_acc > best_accuracy:\n",
    "          best_accuracy = val_mean_acc\n",
    "\n",
    "      # print performance\n",
    "      print(f'Epoch no: {i+1} | Train_loss: {round(avg_train_loss,5)} | Val_loss: {round(val_mean_loss,5)} | Val_Accuracy: {round(val_mean_acc,2)}')\n",
    "    print(f\"Best accuracy is : %{best_accuracy*100} for batch_size ={batch_size}\")\n",
    "    main_accuracy_dict[batch_size] = best_accuracy\n",
    "  return main_accuracy_dict"
   ]
  },
  {
   "cell_type": "code",
   "execution_count": 39,
   "metadata": {},
   "outputs": [
    {
     "name": "stdout",
     "output_type": "stream",
     "text": [
      "Epoch no: 1 | Train_loss: 1.9112 | Val_loss: 1.84974 | Val_Accuracy: 0.47\n",
      "Epoch no: 2 | Train_loss: 1.84737 | Val_loss: 1.84811 | Val_Accuracy: 0.47\n",
      "Epoch no: 3 | Train_loss: 1.59658 | Val_loss: 2.56808 | Val_Accuracy: 0.56\n",
      "Epoch no: 4 | Train_loss: 1.43379 | Val_loss: 2.70626 | Val_Accuracy: 0.6\n",
      "Epoch no: 5 | Train_loss: 1.32368 | Val_loss: 2.83209 | Val_Accuracy: 0.64\n",
      "Epoch no: 6 | Train_loss: 1.23472 | Val_loss: 3.02704 | Val_Accuracy: 0.65\n",
      "Epoch no: 7 | Train_loss: 1.16008 | Val_loss: 3.09695 | Val_Accuracy: 0.69\n",
      "Epoch no: 8 | Train_loss: 1.0473 | Val_loss: 3.40978 | Val_Accuracy: 0.72\n",
      "Epoch no: 9 | Train_loss: 0.94523 | Val_loss: 3.47285 | Val_Accuracy: 0.74\n",
      "Epoch no: 10 | Train_loss: 0.87628 | Val_loss: 3.66282 | Val_Accuracy: 0.75\n",
      "Best accuracy is : %74.63541666666667 for batch_size =128\n",
      "Epoch no: 1 | Train_loss: 1.88883 | Val_loss: 1.84457 | Val_Accuracy: 0.47\n",
      "Epoch no: 2 | Train_loss: 1.61447 | Val_loss: 2.3895 | Val_Accuracy: 0.58\n",
      "Epoch no: 3 | Train_loss: 1.39768 | Val_loss: 2.7665 | Val_Accuracy: 0.62\n",
      "Epoch no: 4 | Train_loss: 1.19827 | Val_loss: 3.196 | Val_Accuracy: 0.69\n",
      "Epoch no: 5 | Train_loss: 1.04283 | Val_loss: 3.4885 | Val_Accuracy: 0.72\n",
      "Epoch no: 6 | Train_loss: 0.93128 | Val_loss: 3.78441 | Val_Accuracy: 0.74\n",
      "Epoch no: 7 | Train_loss: 0.84217 | Val_loss: 4.07177 | Val_Accuracy: 0.76\n",
      "Epoch no: 8 | Train_loss: 0.77944 | Val_loss: 4.26 | Val_Accuracy: 0.77\n",
      "Epoch no: 9 | Train_loss: 0.72328 | Val_loss: 4.40028 | Val_Accuracy: 0.78\n",
      "Epoch no: 10 | Train_loss: 0.68507 | Val_loss: 4.61032 | Val_Accuracy: 0.78\n",
      "Best accuracy is : %78.32661290322581 for batch_size =64\n",
      "Epoch no: 1 | Train_loss: 1.86833 | Val_loss: 1.84795 | Val_Accuracy: 0.47\n",
      "Epoch no: 2 | Train_loss: 1.85282 | Val_loss: 1.84695 | Val_Accuracy: 0.47\n",
      "Epoch no: 3 | Train_loss: 1.85121 | Val_loss: 1.84639 | Val_Accuracy: 0.47\n",
      "Epoch no: 4 | Train_loss: 1.76885 | Val_loss: 2.46212 | Val_Accuracy: 0.57\n",
      "Epoch no: 5 | Train_loss: 1.29306 | Val_loss: 2.9771 | Val_Accuracy: 0.69\n",
      "Epoch no: 6 | Train_loss: 0.95786 | Val_loss: 3.31927 | Val_Accuracy: 0.74\n",
      "Epoch no: 7 | Train_loss: 0.80039 | Val_loss: 3.79171 | Val_Accuracy: 0.77\n",
      "Epoch no: 8 | Train_loss: 0.71263 | Val_loss: 4.00208 | Val_Accuracy: 0.78\n",
      "Epoch no: 9 | Train_loss: 0.64267 | Val_loss: 4.31636 | Val_Accuracy: 0.79\n",
      "Epoch no: 10 | Train_loss: 0.58846 | Val_loss: 4.70537 | Val_Accuracy: 0.79\n",
      "Best accuracy is : %79.3 for batch_size =16\n",
      "Epoch no: 1 | Train_loss: 1.8647 | Val_loss: 1.84703 | Val_Accuracy: 0.47\n",
      "Epoch no: 2 | Train_loss: 1.8535 | Val_loss: 1.84633 | Val_Accuracy: 0.47\n",
      "Epoch no: 3 | Train_loss: 1.85156 | Val_loss: 1.84579 | Val_Accuracy: 0.47\n",
      "Epoch no: 4 | Train_loss: 1.85037 | Val_loss: 1.84543 | Val_Accuracy: 0.47\n",
      "Epoch no: 5 | Train_loss: 1.84954 | Val_loss: 1.84512 | Val_Accuracy: 0.47\n",
      "Epoch no: 6 | Train_loss: 1.83061 | Val_loss: 2.14776 | Val_Accuracy: 0.54\n",
      "Epoch no: 7 | Train_loss: 1.43293 | Val_loss: 2.9253 | Val_Accuracy: 0.65\n",
      "Epoch no: 8 | Train_loss: 1.23137 | Val_loss: 3.44887 | Val_Accuracy: 0.68\n",
      "Epoch no: 9 | Train_loss: 1.04843 | Val_loss: 3.71793 | Val_Accuracy: 0.73\n",
      "Epoch no: 10 | Train_loss: 0.81524 | Val_loss: 4.474 | Val_Accuracy: 0.78\n",
      "Best accuracy is : %77.55 for batch_size =8\n"
     ]
    },
    {
     "data": {
      "text/plain": [
       "{128: 0.7463541666666667, 64: 0.7832661290322581, 16: 0.793, 8: 0.7755}"
      ]
     },
     "execution_count": 39,
     "metadata": {},
     "output_type": "execute_result"
    }
   ],
   "source": [
    "lstm_dict_embed = lstm_train_test_process(has_embedding=True)\n",
    "lstm_dict_embed"
   ]
  },
  {
   "cell_type": "code",
   "execution_count": 40,
   "metadata": {},
   "outputs": [
    {
     "name": "stdout",
     "output_type": "stream",
     "text": [
      "Epoch no: 1 | Train_loss: 1.94543 | Val_loss: 1.84957 | Val_Accuracy: 0.47\n",
      "Epoch no: 2 | Train_loss: 1.84775 | Val_loss: 1.8494 | Val_Accuracy: 0.47\n",
      "Epoch no: 3 | Train_loss: 1.84762 | Val_loss: 1.84905 | Val_Accuracy: 0.47\n",
      "Epoch no: 4 | Train_loss: 1.84747 | Val_loss: 1.84864 | Val_Accuracy: 0.47\n",
      "Epoch no: 5 | Train_loss: 1.8473 | Val_loss: 1.84822 | Val_Accuracy: 0.47\n",
      "Epoch no: 6 | Train_loss: 1.84705 | Val_loss: 1.84784 | Val_Accuracy: 0.47\n",
      "Epoch no: 7 | Train_loss: 1.75953 | Val_loss: 2.24334 | Val_Accuracy: 0.54\n",
      "Epoch no: 8 | Train_loss: 1.48136 | Val_loss: 2.5517 | Val_Accuracy: 0.56\n",
      "Epoch no: 9 | Train_loss: 1.37942 | Val_loss: 2.90325 | Val_Accuracy: 0.63\n",
      "Epoch no: 10 | Train_loss: 1.21376 | Val_loss: 3.12367 | Val_Accuracy: 0.66\n",
      "Best accuracy is : %66.35416666666667 for batch_size =128\n",
      "Epoch no: 1 | Train_loss: 1.90013 | Val_loss: 1.84475 | Val_Accuracy: 0.47\n",
      "Epoch no: 2 | Train_loss: 1.84884 | Val_loss: 1.84428 | Val_Accuracy: 0.47\n",
      "Epoch no: 3 | Train_loss: 1.84831 | Val_loss: 1.84398 | Val_Accuracy: 0.47\n",
      "Epoch no: 4 | Train_loss: 1.70803 | Val_loss: 2.36879 | Val_Accuracy: 0.55\n",
      "Epoch no: 5 | Train_loss: 1.40749 | Val_loss: 2.66968 | Val_Accuracy: 0.62\n",
      "Epoch no: 6 | Train_loss: 1.20907 | Val_loss: 2.98897 | Val_Accuracy: 0.67\n",
      "Epoch no: 7 | Train_loss: 1.12219 | Val_loss: 3.19964 | Val_Accuracy: 0.69\n",
      "Epoch no: 8 | Train_loss: 1.04715 | Val_loss: 3.41943 | Val_Accuracy: 0.72\n",
      "Epoch no: 9 | Train_loss: 0.98286 | Val_loss: 3.55145 | Val_Accuracy: 0.73\n",
      "Epoch no: 10 | Train_loss: 0.93345 | Val_loss: 3.7251 | Val_Accuracy: 0.74\n",
      "Best accuracy is : %73.73991935483872 for batch_size =64\n",
      "Epoch no: 1 | Train_loss: 1.86825 | Val_loss: 1.84786 | Val_Accuracy: 0.47\n",
      "Epoch no: 2 | Train_loss: 1.80974 | Val_loss: 2.38293 | Val_Accuracy: 0.55\n",
      "Epoch no: 3 | Train_loss: 1.44744 | Val_loss: 2.65068 | Val_Accuracy: 0.64\n",
      "Epoch no: 4 | Train_loss: 1.25003 | Val_loss: 2.91641 | Val_Accuracy: 0.66\n",
      "Epoch no: 5 | Train_loss: 1.09777 | Val_loss: 3.25839 | Val_Accuracy: 0.72\n",
      "Epoch no: 6 | Train_loss: 0.92357 | Val_loss: 3.5689 | Val_Accuracy: 0.75\n",
      "Epoch no: 7 | Train_loss: 0.8133 | Val_loss: 3.90279 | Val_Accuracy: 0.76\n",
      "Epoch no: 8 | Train_loss: 0.72713 | Val_loss: 4.09484 | Val_Accuracy: 0.78\n",
      "Epoch no: 9 | Train_loss: 0.66821 | Val_loss: 4.34595 | Val_Accuracy: 0.78\n",
      "Epoch no: 10 | Train_loss: 0.62392 | Val_loss: 4.43922 | Val_Accuracy: 0.79\n",
      "Best accuracy is : %78.64999999999999 for batch_size =16\n",
      "Epoch no: 1 | Train_loss: 1.77906 | Val_loss: 2.73391 | Val_Accuracy: 0.57\n",
      "Epoch no: 2 | Train_loss: 1.43192 | Val_loss: 3.1047 | Val_Accuracy: 0.63\n",
      "Epoch no: 3 | Train_loss: 1.28835 | Val_loss: 3.37617 | Val_Accuracy: 0.67\n",
      "Epoch no: 4 | Train_loss: 1.1173 | Val_loss: 3.84003 | Val_Accuracy: 0.72\n",
      "Epoch no: 5 | Train_loss: 0.95112 | Val_loss: 4.11202 | Val_Accuracy: 0.76\n",
      "Epoch no: 6 | Train_loss: 0.83488 | Val_loss: 4.46689 | Val_Accuracy: 0.77\n",
      "Epoch no: 7 | Train_loss: 0.75247 | Val_loss: 4.51316 | Val_Accuracy: 0.78\n",
      "Epoch no: 8 | Train_loss: 0.68031 | Val_loss: 5.10584 | Val_Accuracy: 0.77\n",
      "Epoch no: 9 | Train_loss: 0.62812 | Val_loss: 5.4009 | Val_Accuracy: 0.79\n",
      "Epoch no: 10 | Train_loss: 0.58642 | Val_loss: 5.5527 | Val_Accuracy: 0.8\n",
      "Best accuracy is : %79.75 for batch_size =8\n"
     ]
    },
    {
     "data": {
      "text/plain": [
       "{128: 0.6635416666666667, 64: 0.7373991935483871, 16: 0.7865, 8: 0.7975}"
      ]
     },
     "execution_count": 40,
     "metadata": {},
     "output_type": "execute_result"
    }
   ],
   "source": [
    "lstm_dict = lstm_train_test_process(has_embedding=False)\n",
    "lstm_dict"
   ]
  },
  {
   "cell_type": "code",
   "execution_count": 41,
   "metadata": {},
   "outputs": [
    {
     "name": "stderr",
     "output_type": "stream",
     "text": [
      "C:\\Users\\doguc\\AppData\\Local\\Programs\\Python\\Python39\\lib\\site-packages\\torch\\nn\\modules\\conv.py:298: UserWarning: Using padding='same' with even kernel lengths and odd dilation may require a zero-padded copy of the input be created (Triggered internally at  C:\\actions-runner\\_work\\pytorch\\pytorch\\builder\\windows\\pytorch\\aten\\src\\ATen\\native\\Convolution.cpp:744.)\n",
      "  return F.conv1d(input, weight, bias, self.stride,\n"
     ]
    },
    {
     "name": "stdout",
     "output_type": "stream",
     "text": [
      "Epoch no: 1 | Train_loss: 2.15433 | Val_loss: 1.90775 | Val_Accuracy: 0.47\n",
      "Epoch no: 2 | Train_loss: 1.76741 | Val_loss: 2.06209 | Val_Accuracy: 0.49\n",
      "Epoch no: 3 | Train_loss: 1.59209 | Val_loss: 2.28754 | Val_Accuracy: 0.57\n",
      "Epoch no: 4 | Train_loss: 1.48846 | Val_loss: 2.46273 | Val_Accuracy: 0.61\n",
      "Epoch no: 5 | Train_loss: 1.43235 | Val_loss: 2.58502 | Val_Accuracy: 0.62\n",
      "Epoch no: 6 | Train_loss: 1.39461 | Val_loss: 2.6686 | Val_Accuracy: 0.63\n",
      "Epoch no: 7 | Train_loss: 1.36629 | Val_loss: 2.72721 | Val_Accuracy: 0.65\n",
      "Epoch no: 8 | Train_loss: 1.34279 | Val_loss: 2.77863 | Val_Accuracy: 0.65\n",
      "Epoch no: 9 | Train_loss: 1.32294 | Val_loss: 2.82391 | Val_Accuracy: 0.65\n",
      "Epoch no: 10 | Train_loss: 1.30589 | Val_loss: 2.86511 | Val_Accuracy: 0.65\n",
      "Best accuracy is : %65.36458333333334 for batch_size =128\n",
      "Epoch no: 1 | Train_loss: 2.12655 | Val_loss: 2.0888 | Val_Accuracy: 0.49\n",
      "Epoch no: 2 | Train_loss: 1.7843 | Val_loss: 2.29548 | Val_Accuracy: 0.53\n",
      "Epoch no: 3 | Train_loss: 1.67731 | Val_loss: 2.47125 | Val_Accuracy: 0.55\n",
      "Epoch no: 4 | Train_loss: 1.59861 | Val_loss: 2.61639 | Val_Accuracy: 0.57\n",
      "Epoch no: 5 | Train_loss: 1.54915 | Val_loss: 2.74378 | Val_Accuracy: 0.58\n",
      "Epoch no: 6 | Train_loss: 1.51985 | Val_loss: 2.84423 | Val_Accuracy: 0.59\n",
      "Epoch no: 7 | Train_loss: 1.496 | Val_loss: 2.90921 | Val_Accuracy: 0.6\n",
      "Epoch no: 8 | Train_loss: 1.46631 | Val_loss: 2.97811 | Val_Accuracy: 0.6\n",
      "Epoch no: 9 | Train_loss: 1.44532 | Val_loss: 3.04204 | Val_Accuracy: 0.61\n",
      "Epoch no: 10 | Train_loss: 1.4284 | Val_loss: 3.09259 | Val_Accuracy: 0.61\n",
      "Best accuracy is : %61.23991935483871 for batch_size =64\n",
      "Epoch no: 1 | Train_loss: 1.85728 | Val_loss: 2.26289 | Val_Accuracy: 0.53\n",
      "Epoch no: 2 | Train_loss: 1.58444 | Val_loss: 2.48039 | Val_Accuracy: 0.59\n",
      "Epoch no: 3 | Train_loss: 1.49415 | Val_loss: 2.61203 | Val_Accuracy: 0.6\n",
      "Epoch no: 4 | Train_loss: 1.44989 | Val_loss: 2.68405 | Val_Accuracy: 0.61\n",
      "Epoch no: 5 | Train_loss: 1.42377 | Val_loss: 2.71349 | Val_Accuracy: 0.62\n",
      "Epoch no: 6 | Train_loss: 1.40764 | Val_loss: 2.74595 | Val_Accuracy: 0.62\n",
      "Epoch no: 7 | Train_loss: 1.39476 | Val_loss: 2.77287 | Val_Accuracy: 0.62\n",
      "Epoch no: 8 | Train_loss: 1.38487 | Val_loss: 2.78934 | Val_Accuracy: 0.62\n",
      "Epoch no: 9 | Train_loss: 1.37707 | Val_loss: 2.79853 | Val_Accuracy: 0.62\n",
      "Epoch no: 10 | Train_loss: 1.37052 | Val_loss: 2.80991 | Val_Accuracy: 0.63\n",
      "Best accuracy is : %62.55 for batch_size =16\n",
      "Epoch no: 1 | Train_loss: 1.7533 | Val_loss: 2.61057 | Val_Accuracy: 0.57\n",
      "Epoch no: 2 | Train_loss: 1.49988 | Val_loss: 3.107 | Val_Accuracy: 0.61\n",
      "Epoch no: 3 | Train_loss: 1.44427 | Val_loss: 3.29824 | Val_Accuracy: 0.62\n",
      "Epoch no: 4 | Train_loss: 1.41343 | Val_loss: 3.45941 | Val_Accuracy: 0.62\n",
      "Epoch no: 5 | Train_loss: 1.39567 | Val_loss: 3.56367 | Val_Accuracy: 0.62\n",
      "Epoch no: 6 | Train_loss: 1.38242 | Val_loss: 3.63315 | Val_Accuracy: 0.62\n",
      "Epoch no: 7 | Train_loss: 1.37095 | Val_loss: 3.68032 | Val_Accuracy: 0.63\n",
      "Epoch no: 8 | Train_loss: 1.36143 | Val_loss: 3.72773 | Val_Accuracy: 0.63\n",
      "Epoch no: 9 | Train_loss: 1.3538 | Val_loss: 3.75724 | Val_Accuracy: 0.63\n",
      "Epoch no: 10 | Train_loss: 1.34726 | Val_loss: 3.81755 | Val_Accuracy: 0.63\n",
      "Best accuracy is : %62.9 for batch_size =8\n"
     ]
    },
    {
     "data": {
      "text/plain": [
       "{128: 0.6536458333333334, 64: 0.6123991935483871, 16: 0.6255, 8: 0.629}"
      ]
     },
     "execution_count": 41,
     "metadata": {},
     "output_type": "execute_result"
    }
   ],
   "source": [
    "cnn_dict_embed = cnn_train_test_process(has_embedding=True)\n",
    "cnn_dict_embed"
   ]
  },
  {
   "cell_type": "code",
   "execution_count": 42,
   "metadata": {},
   "outputs": [
    {
     "name": "stdout",
     "output_type": "stream",
     "text": [
      "Epoch no: 1 | Train_loss: 2.4812 | Val_loss: 1.92425 | Val_Accuracy: 0.47\n",
      "Epoch no: 2 | Train_loss: 1.87832 | Val_loss: 1.93447 | Val_Accuracy: 0.47\n",
      "Epoch no: 3 | Train_loss: 1.78449 | Val_loss: 2.00018 | Val_Accuracy: 0.47\n",
      "Epoch no: 4 | Train_loss: 1.69302 | Val_loss: 2.1008 | Val_Accuracy: 0.5\n",
      "Epoch no: 5 | Train_loss: 1.62001 | Val_loss: 2.19069 | Val_Accuracy: 0.56\n",
      "Epoch no: 6 | Train_loss: 1.55053 | Val_loss: 2.26896 | Val_Accuracy: 0.59\n",
      "Epoch no: 7 | Train_loss: 1.49251 | Val_loss: 2.35082 | Val_Accuracy: 0.6\n",
      "Epoch no: 8 | Train_loss: 1.45453 | Val_loss: 2.42348 | Val_Accuracy: 0.62\n",
      "Epoch no: 9 | Train_loss: 1.42683 | Val_loss: 2.48707 | Val_Accuracy: 0.62\n",
      "Epoch no: 10 | Train_loss: 1.40534 | Val_loss: 2.5432 | Val_Accuracy: 0.63\n",
      "Best accuracy is : %62.96874999999999 for batch_size =128\n",
      "Epoch no: 1 | Train_loss: 2.80057 | Val_loss: 2.79407 | Val_Accuracy: 0.18\n",
      "Epoch no: 2 | Train_loss: 2.7362 | Val_loss: 2.81659 | Val_Accuracy: 0.18\n",
      "Epoch no: 3 | Train_loss: 2.69811 | Val_loss: 2.84353 | Val_Accuracy: 0.18\n",
      "Epoch no: 4 | Train_loss: 2.67711 | Val_loss: 2.8571 | Val_Accuracy: 0.19\n",
      "Epoch no: 5 | Train_loss: 1.94444 | Val_loss: 2.13694 | Val_Accuracy: 0.56\n",
      "Epoch no: 6 | Train_loss: 1.71909 | Val_loss: 2.3267 | Val_Accuracy: 0.57\n",
      "Epoch no: 7 | Train_loss: 1.64465 | Val_loss: 2.44661 | Val_Accuracy: 0.57\n",
      "Epoch no: 8 | Train_loss: 1.60667 | Val_loss: 2.53662 | Val_Accuracy: 0.58\n",
      "Epoch no: 9 | Train_loss: 1.58203 | Val_loss: 2.61629 | Val_Accuracy: 0.58\n",
      "Epoch no: 10 | Train_loss: 1.56392 | Val_loss: 2.68122 | Val_Accuracy: 0.58\n",
      "Best accuracy is : %58.06451612903226 for batch_size =64\n",
      "Epoch no: 1 | Train_loss: 1.8025 | Val_loss: 2.23612 | Val_Accuracy: 0.56\n",
      "Epoch no: 2 | Train_loss: 1.52132 | Val_loss: 2.47946 | Val_Accuracy: 0.61\n",
      "Epoch no: 3 | Train_loss: 1.44358 | Val_loss: 2.60695 | Val_Accuracy: 0.64\n",
      "Epoch no: 4 | Train_loss: 1.3953 | Val_loss: 2.71391 | Val_Accuracy: 0.65\n",
      "Epoch no: 5 | Train_loss: 1.36236 | Val_loss: 2.79381 | Val_Accuracy: 0.65\n",
      "Epoch no: 6 | Train_loss: 1.33816 | Val_loss: 2.85838 | Val_Accuracy: 0.66\n",
      "Epoch no: 7 | Train_loss: 1.32035 | Val_loss: 2.91373 | Val_Accuracy: 0.66\n",
      "Epoch no: 8 | Train_loss: 1.30674 | Val_loss: 2.95885 | Val_Accuracy: 0.66\n",
      "Epoch no: 9 | Train_loss: 1.29588 | Val_loss: 2.98758 | Val_Accuracy: 0.66\n",
      "Epoch no: 10 | Train_loss: 1.28698 | Val_loss: 3.01409 | Val_Accuracy: 0.66\n",
      "Best accuracy is : %66.35 for batch_size =16\n",
      "Epoch no: 1 | Train_loss: 1.93865 | Val_loss: 2.6492 | Val_Accuracy: 0.48\n",
      "Epoch no: 2 | Train_loss: 1.7199 | Val_loss: 2.89843 | Val_Accuracy: 0.52\n",
      "Epoch no: 3 | Train_loss: 1.64838 | Val_loss: 3.0968 | Val_Accuracy: 0.53\n",
      "Epoch no: 4 | Train_loss: 1.59861 | Val_loss: 3.30357 | Val_Accuracy: 0.55\n",
      "Epoch no: 5 | Train_loss: 1.56632 | Val_loss: 3.42966 | Val_Accuracy: 0.56\n",
      "Epoch no: 6 | Train_loss: 1.54422 | Val_loss: 3.53592 | Val_Accuracy: 0.56\n",
      "Epoch no: 7 | Train_loss: 1.52673 | Val_loss: 3.61011 | Val_Accuracy: 0.57\n",
      "Epoch no: 8 | Train_loss: 1.51279 | Val_loss: 3.64902 | Val_Accuracy: 0.57\n",
      "Epoch no: 9 | Train_loss: 1.50045 | Val_loss: 3.68287 | Val_Accuracy: 0.57\n",
      "Epoch no: 10 | Train_loss: 1.4911 | Val_loss: 3.70605 | Val_Accuracy: 0.57\n",
      "Best accuracy is : %57.25 for batch_size =8\n"
     ]
    },
    {
     "data": {
      "text/plain": [
       "{128: 0.6296875, 64: 0.5806451612903226, 16: 0.6635, 8: 0.5725}"
      ]
     },
     "execution_count": 42,
     "metadata": {},
     "output_type": "execute_result"
    }
   ],
   "source": [
    "cnn_dict = cnn_train_test_process(has_embedding=False)\n",
    "cnn_dict"
   ]
  },
  {
   "cell_type": "code",
   "execution_count": 43,
   "metadata": {},
   "outputs": [
    {
     "name": "stdout",
     "output_type": "stream",
     "text": [
      "Epoch no: 1 | Train_loss: 1.89296 | Val_loss: 1.8519 | Val_Accuracy: 0.47\n",
      "Epoch no: 2 | Train_loss: 1.84997 | Val_loss: 1.85176 | Val_Accuracy: 0.47\n",
      "Epoch no: 3 | Train_loss: 1.84967 | Val_loss: 1.85132 | Val_Accuracy: 0.47\n",
      "Epoch no: 4 | Train_loss: 1.84935 | Val_loss: 1.8508 | Val_Accuracy: 0.47\n",
      "Epoch no: 5 | Train_loss: 1.84908 | Val_loss: 1.85033 | Val_Accuracy: 0.47\n",
      "Epoch no: 6 | Train_loss: 1.84887 | Val_loss: 1.84999 | Val_Accuracy: 0.47\n",
      "Epoch no: 7 | Train_loss: 1.84867 | Val_loss: 1.84966 | Val_Accuracy: 0.47\n",
      "Epoch no: 8 | Train_loss: 1.84849 | Val_loss: 1.84974 | Val_Accuracy: 0.47\n",
      "Epoch no: 9 | Train_loss: 1.84836 | Val_loss: 1.84928 | Val_Accuracy: 0.47\n",
      "Epoch no: 10 | Train_loss: 1.84823 | Val_loss: 1.84883 | Val_Accuracy: 0.47\n",
      "Best accuracy is : %46.875 for batch_size =128\n",
      "Epoch no: 1 | Train_loss: 1.87653 | Val_loss: 1.84923 | Val_Accuracy: 0.47\n",
      "Epoch no: 2 | Train_loss: 1.85253 | Val_loss: 1.84829 | Val_Accuracy: 0.47\n",
      "Epoch no: 3 | Train_loss: 1.85169 | Val_loss: 1.8469 | Val_Accuracy: 0.47\n",
      "Epoch no: 4 | Train_loss: 1.85103 | Val_loss: 1.84583 | Val_Accuracy: 0.47\n",
      "Epoch no: 5 | Train_loss: 1.85051 | Val_loss: 1.84526 | Val_Accuracy: 0.47\n",
      "Epoch no: 6 | Train_loss: 1.85009 | Val_loss: 1.84504 | Val_Accuracy: 0.47\n",
      "Epoch no: 7 | Train_loss: 1.84979 | Val_loss: 1.84498 | Val_Accuracy: 0.47\n",
      "Epoch no: 8 | Train_loss: 1.84947 | Val_loss: 1.84493 | Val_Accuracy: 0.47\n",
      "Epoch no: 9 | Train_loss: 1.85129 | Val_loss: 1.84564 | Val_Accuracy: 0.47\n",
      "Epoch no: 10 | Train_loss: 1.84929 | Val_loss: 1.84539 | Val_Accuracy: 0.47\n",
      "Best accuracy is : %47.02620967741936 for batch_size =64\n",
      "Epoch no: 1 | Train_loss: 1.86922 | Val_loss: 1.84808 | Val_Accuracy: 0.47\n",
      "Epoch no: 2 | Train_loss: 1.85907 | Val_loss: 1.86147 | Val_Accuracy: 0.47\n",
      "Epoch no: 3 | Train_loss: 1.86423 | Val_loss: 1.85034 | Val_Accuracy: 0.47\n",
      "Epoch no: 4 | Train_loss: 1.85246 | Val_loss: 1.88607 | Val_Accuracy: 0.47\n",
      "Epoch no: 5 | Train_loss: 1.71785 | Val_loss: 2.04748 | Val_Accuracy: 0.5\n",
      "Epoch no: 6 | Train_loss: 1.61229 | Val_loss: 2.20477 | Val_Accuracy: 0.52\n",
      "Epoch no: 7 | Train_loss: 1.53061 | Val_loss: 2.36422 | Val_Accuracy: 0.58\n",
      "Epoch no: 8 | Train_loss: 1.46713 | Val_loss: 2.51337 | Val_Accuracy: 0.58\n",
      "Epoch no: 9 | Train_loss: 1.38289 | Val_loss: 2.64278 | Val_Accuracy: 0.63\n",
      "Epoch no: 10 | Train_loss: 1.30874 | Val_loss: 2.68733 | Val_Accuracy: 0.65\n",
      "Best accuracy is : %64.7 for batch_size =16\n",
      "Epoch no: 1 | Train_loss: 1.87174 | Val_loss: 1.85267 | Val_Accuracy: 0.47\n",
      "Epoch no: 2 | Train_loss: 1.87867 | Val_loss: 1.86865 | Val_Accuracy: 0.47\n",
      "Epoch no: 3 | Train_loss: 1.83255 | Val_loss: 1.92325 | Val_Accuracy: 0.48\n",
      "Epoch no: 4 | Train_loss: 1.82297 | Val_loss: 1.87709 | Val_Accuracy: 0.47\n",
      "Epoch no: 5 | Train_loss: 1.87528 | Val_loss: 1.87671 | Val_Accuracy: 0.47\n",
      "Epoch no: 6 | Train_loss: 1.87397 | Val_loss: 1.87573 | Val_Accuracy: 0.47\n",
      "Epoch no: 7 | Train_loss: 1.87333 | Val_loss: 1.86993 | Val_Accuracy: 0.47\n",
      "Epoch no: 8 | Train_loss: 1.87295 | Val_loss: 1.86995 | Val_Accuracy: 0.47\n",
      "Epoch no: 9 | Train_loss: 1.87073 | Val_loss: 1.90129 | Val_Accuracy: 0.47\n",
      "Epoch no: 10 | Train_loss: 1.86921 | Val_loss: 1.87366 | Val_Accuracy: 0.47\n",
      "Best accuracy is : %48.199999999999996 for batch_size =8\n"
     ]
    },
    {
     "data": {
      "text/plain": [
       "{128: 0.46875, 64: 0.47026209677419356, 16: 0.647, 8: 0.482}"
      ]
     },
     "execution_count": 43,
     "metadata": {},
     "output_type": "execute_result"
    }
   ],
   "source": [
    "rnn_dict_embed = rnn_train_test_process(has_embedding=True)\n",
    "rnn_dict_embed"
   ]
  },
  {
   "cell_type": "code",
   "execution_count": 44,
   "metadata": {},
   "outputs": [
    {
     "name": "stdout",
     "output_type": "stream",
     "text": [
      "Epoch no: 1 | Train_loss: 1.9038 | Val_loss: 1.85123 | Val_Accuracy: 0.47\n",
      "Epoch no: 2 | Train_loss: 1.84974 | Val_loss: 1.85099 | Val_Accuracy: 0.47\n",
      "Epoch no: 3 | Train_loss: 1.84952 | Val_loss: 1.85082 | Val_Accuracy: 0.47\n",
      "Epoch no: 4 | Train_loss: 1.84924 | Val_loss: 1.85063 | Val_Accuracy: 0.47\n",
      "Epoch no: 5 | Train_loss: 1.849 | Val_loss: 1.8505 | Val_Accuracy: 0.47\n",
      "Epoch no: 6 | Train_loss: 1.8488 | Val_loss: 1.85042 | Val_Accuracy: 0.47\n",
      "Epoch no: 7 | Train_loss: 1.84863 | Val_loss: 1.85032 | Val_Accuracy: 0.47\n",
      "Epoch no: 8 | Train_loss: 1.84847 | Val_loss: 1.85031 | Val_Accuracy: 0.47\n",
      "Epoch no: 9 | Train_loss: 1.84833 | Val_loss: 1.85022 | Val_Accuracy: 0.47\n",
      "Epoch no: 10 | Train_loss: 1.84823 | Val_loss: 1.84981 | Val_Accuracy: 0.47\n",
      "Best accuracy is : %46.875 for batch_size =128\n",
      "Epoch no: 1 | Train_loss: 1.88061 | Val_loss: 1.84803 | Val_Accuracy: 0.47\n",
      "Epoch no: 2 | Train_loss: 1.85284 | Val_loss: 1.84776 | Val_Accuracy: 0.47\n",
      "Epoch no: 3 | Train_loss: 1.85217 | Val_loss: 1.84736 | Val_Accuracy: 0.47\n",
      "Epoch no: 4 | Train_loss: 1.85165 | Val_loss: 1.84685 | Val_Accuracy: 0.47\n",
      "Epoch no: 5 | Train_loss: 1.85121 | Val_loss: 1.84645 | Val_Accuracy: 0.47\n",
      "Epoch no: 6 | Train_loss: 1.85084 | Val_loss: 1.84621 | Val_Accuracy: 0.47\n",
      "Epoch no: 7 | Train_loss: 1.85049 | Val_loss: 1.84577 | Val_Accuracy: 0.47\n",
      "Epoch no: 8 | Train_loss: 1.82361 | Val_loss: 1.88513 | Val_Accuracy: 0.47\n",
      "Epoch no: 9 | Train_loss: 1.80669 | Val_loss: 1.87657 | Val_Accuracy: 0.47\n",
      "Epoch no: 10 | Train_loss: 1.80903 | Val_loss: 1.88934 | Val_Accuracy: 0.47\n",
      "Best accuracy is : %47.02620967741936 for batch_size =64\n",
      "Epoch no: 1 | Train_loss: 1.8745 | Val_loss: 1.84933 | Val_Accuracy: 0.47\n",
      "Epoch no: 2 | Train_loss: 1.83402 | Val_loss: 1.98511 | Val_Accuracy: 0.48\n",
      "Epoch no: 3 | Train_loss: 1.74259 | Val_loss: 1.97933 | Val_Accuracy: 0.51\n",
      "Epoch no: 4 | Train_loss: 1.70721 | Val_loss: 1.86282 | Val_Accuracy: 0.47\n",
      "Epoch no: 5 | Train_loss: 1.71907 | Val_loss: 1.99773 | Val_Accuracy: 0.51\n",
      "Epoch no: 6 | Train_loss: 1.68356 | Val_loss: 2.09642 | Val_Accuracy: 0.52\n",
      "Epoch no: 7 | Train_loss: 1.64315 | Val_loss: 2.08653 | Val_Accuracy: 0.53\n",
      "Epoch no: 8 | Train_loss: 1.61356 | Val_loss: 2.27788 | Val_Accuracy: 0.53\n",
      "Epoch no: 9 | Train_loss: 1.58933 | Val_loss: 2.2071 | Val_Accuracy: 0.5\n",
      "Epoch no: 10 | Train_loss: 1.51897 | Val_loss: 2.28878 | Val_Accuracy: 0.57\n",
      "Best accuracy is : %57.15 for batch_size =16\n",
      "Epoch no: 1 | Train_loss: 1.87282 | Val_loss: 1.85109 | Val_Accuracy: 0.47\n",
      "Epoch no: 2 | Train_loss: 1.8664 | Val_loss: 2.39128 | Val_Accuracy: 0.46\n",
      "Epoch no: 3 | Train_loss: 1.81739 | Val_loss: 1.95557 | Val_Accuracy: 0.47\n",
      "Epoch no: 4 | Train_loss: 1.83165 | Val_loss: 1.92816 | Val_Accuracy: 0.47\n",
      "Epoch no: 5 | Train_loss: 1.82991 | Val_loss: 1.94648 | Val_Accuracy: 0.47\n",
      "Epoch no: 6 | Train_loss: 1.83287 | Val_loss: 1.9075 | Val_Accuracy: 0.47\n",
      "Epoch no: 7 | Train_loss: 1.8345 | Val_loss: 1.9065 | Val_Accuracy: 0.47\n",
      "Epoch no: 8 | Train_loss: 1.82754 | Val_loss: 2.07711 | Val_Accuracy: 0.47\n",
      "Epoch no: 9 | Train_loss: 1.82804 | Val_loss: 1.89141 | Val_Accuracy: 0.47\n",
      "Epoch no: 10 | Train_loss: 1.84087 | Val_loss: 1.96077 | Val_Accuracy: 0.47\n",
      "Best accuracy is : %47.349999999999994 for batch_size =8\n"
     ]
    },
    {
     "data": {
      "text/plain": [
       "{128: 0.46875, 64: 0.47026209677419356, 16: 0.5715, 8: 0.4735}"
      ]
     },
     "execution_count": 44,
     "metadata": {},
     "output_type": "execute_result"
    }
   ],
   "source": [
    "rnn_dict = rnn_train_test_process(has_embedding=False)\n",
    "rnn_dict"
   ]
  },
  {
   "cell_type": "code",
   "execution_count": 45,
   "metadata": {},
   "outputs": [
    {
     "name": "stdout",
     "output_type": "stream",
     "text": [
      "Epoch no: 1 | Train_loss: 1.87666 | Val_loss: 1.85373 | Val_Accuracy: 0.47\n",
      "Epoch no: 2 | Train_loss: 1.84497 | Val_loss: 1.82604 | Val_Accuracy: 0.47\n",
      "Epoch no: 3 | Train_loss: 1.72127 | Val_loss: 1.59909 | Val_Accuracy: 0.53\n",
      "Epoch no: 4 | Train_loss: 1.57468 | Val_loss: 1.54572 | Val_Accuracy: 0.54\n",
      "Epoch no: 5 | Train_loss: 1.523 | Val_loss: 1.50194 | Val_Accuracy: 0.56\n",
      "Epoch no: 6 | Train_loss: 1.47818 | Val_loss: 1.44208 | Val_Accuracy: 0.59\n",
      "Epoch no: 7 | Train_loss: 1.45263 | Val_loss: 1.44767 | Val_Accuracy: 0.59\n",
      "Epoch no: 8 | Train_loss: 1.40381 | Val_loss: 1.34322 | Val_Accuracy: 0.61\n",
      "Epoch no: 9 | Train_loss: 1.37887 | Val_loss: 1.33811 | Val_Accuracy: 0.61\n",
      "Epoch no: 10 | Train_loss: 1.33646 | Val_loss: 1.29381 | Val_Accuracy: 0.61\n",
      "Best accuracy is : %60.9375 for batch_size =128\n"
     ]
    },
    {
     "data": {
      "text/plain": [
       "{128: 0.609375}"
      ]
     },
     "execution_count": 45,
     "metadata": {},
     "output_type": "execute_result"
    }
   ],
   "source": [
    "rnn_custom_dict_embed = custom_rnn_train_test_process(has_embedding=True)\n",
    "rnn_custom_dict_embed"
   ]
  },
  {
   "cell_type": "code",
   "execution_count": 46,
   "metadata": {},
   "outputs": [
    {
     "name": "stdout",
     "output_type": "stream",
     "text": [
      "Epoch no: 1 | Train_loss: 1.91467 | Val_loss: 1.80823 | Val_Accuracy: 0.47\n",
      "Epoch no: 2 | Train_loss: 1.82411 | Val_loss: 1.83959 | Val_Accuracy: 0.47\n",
      "Epoch no: 3 | Train_loss: 1.75514 | Val_loss: 1.56368 | Val_Accuracy: 0.51\n",
      "Epoch no: 4 | Train_loss: 1.5274 | Val_loss: 1.4769 | Val_Accuracy: 0.55\n",
      "Epoch no: 5 | Train_loss: 1.48404 | Val_loss: 1.48919 | Val_Accuracy: 0.55\n",
      "Epoch no: 6 | Train_loss: 1.46543 | Val_loss: 1.47847 | Val_Accuracy: 0.54\n",
      "Epoch no: 7 | Train_loss: 1.44881 | Val_loss: 1.45877 | Val_Accuracy: 0.56\n",
      "Epoch no: 8 | Train_loss: 1.43498 | Val_loss: 1.43826 | Val_Accuracy: 0.56\n",
      "Epoch no: 9 | Train_loss: 1.42354 | Val_loss: 1.42047 | Val_Accuracy: 0.56\n",
      "Epoch no: 10 | Train_loss: 1.41049 | Val_loss: 1.39065 | Val_Accuracy: 0.55\n",
      "Best accuracy is : %55.93749999999999 for batch_size =128\n"
     ]
    },
    {
     "data": {
      "text/plain": [
       "{128: 0.559375}"
      ]
     },
     "execution_count": 46,
     "metadata": {},
     "output_type": "execute_result"
    }
   ],
   "source": [
    "rnn_custom_dict = custom_rnn_train_test_process(has_embedding=False)\n",
    "rnn_custom_dict"
   ]
  },
  {
   "cell_type": "code",
   "execution_count": 87,
   "metadata": {},
   "outputs": [],
   "source": [
    "lstm_list_embed = [['lstm_embed' + str(i),(lstm_dict_embed[i])] for i in list(lstm_dict_embed.keys())]\n",
    "lstm_list = [['lstm_' + str(i),lstm_dict[i]] for i in list(lstm_dict.keys())]\n",
    "\n",
    "rnn_list_embed = [['rnn_embed' + str(i),rnn_dict_embed[i]] for i in list(rnn_dict_embed.keys())]\n",
    "rnn_list = [['rnn_' + str(i),rnn_dict[i]] for i in list(rnn_dict.keys())]\n",
    "\n",
    "rnn_custom_list_embed = [['rnn_custom_embed' + str(i),rnn_custom_dict_embed[i]] for i in list(rnn_custom_dict_embed.keys())]\n",
    "rnn_custom_list = [['rnn_custom_' + str(i),rnn_custom_dict[i]] for i in list(rnn_custom_dict.keys())]\n",
    "\n",
    "cnn_list_embed = [['cnn_embed' + str(i),cnn_dict_embed[i]] for i in list(cnn_dict_embed.keys())]\n",
    "cnn_list = [['cnn_' + str(i),cnn_dict[i]] for i in list(cnn_dict.keys())]"
   ]
  },
  {
   "cell_type": "code",
   "execution_count": 88,
   "metadata": {},
   "outputs": [],
   "source": [
    "total_list = lstm_list_embed + lstm_list + rnn_list_embed + rnn_list + rnn_custom_list_embed + rnn_custom_list + cnn_list_embed + cnn_list"
   ]
  },
  {
   "cell_type": "code",
   "execution_count": 95,
   "metadata": {},
   "outputs": [
    {
     "data": {
      "text/plain": [
       "[['lstm_8', 0.7975],\n",
       " ['lstm_embed16', 0.793],\n",
       " ['lstm_16', 0.7865],\n",
       " ['lstm_embed64', 0.7832661290322581],\n",
       " ['lstm_embed8', 0.7755],\n",
       " ['lstm_embed128', 0.7463541666666667],\n",
       " ['lstm_64', 0.7373991935483871],\n",
       " ['lstm_128', 0.6635416666666667],\n",
       " ['cnn_16', 0.6635],\n",
       " ['cnn_embed128', 0.6536458333333334],\n",
       " ['rnn_embed16', 0.647],\n",
       " ['cnn_128', 0.6296875],\n",
       " ['cnn_embed8', 0.629],\n",
       " ['cnn_embed16', 0.6255],\n",
       " ['cnn_embed64', 0.6123991935483871],\n",
       " ['rnn_custom_embed128', 0.609375],\n",
       " ['cnn_64', 0.5806451612903226],\n",
       " ['cnn_8', 0.5725],\n",
       " ['rnn_16', 0.5715],\n",
       " ['rnn_custom_128', 0.559375],\n",
       " ['rnn_embed8', 0.482],\n",
       " ['rnn_8', 0.4735],\n",
       " ['rnn_embed64', 0.47026209677419356],\n",
       " ['rnn_64', 0.47026209677419356],\n",
       " ['rnn_embed128', 0.46875],\n",
       " ['rnn_128', 0.46875]]"
      ]
     },
     "execution_count": 95,
     "metadata": {},
     "output_type": "execute_result"
    }
   ],
   "source": [
    "total_list.sort(key=lambda x:x[1])\n",
    "total_list = total_list[::-1]\n",
    "total_list"
   ]
  },
  {
   "cell_type": "code",
   "execution_count": 122,
   "metadata": {},
   "outputs": [],
   "source": [
    "acc_array = np.array(total_list)[:,1].astype('float')"
   ]
  },
  {
   "cell_type": "code",
   "execution_count": 123,
   "metadata": {},
   "outputs": [
    {
     "data": {
      "image/png": "[encoded data removed]",
      "text/plain": [
       "<Figure size 1440x504 with 1 Axes>"
      ]
     },
     "metadata": {
      "needs_background": "light"
     },
     "output_type": "display_data"
    }
   ],
   "source": [
    "import matplotlib.pyplot as plt\n",
    "plt.figure(figsize=(20,7))\n",
    "plt.bar(np.array(total_list)[:,0],acc_array)\n",
    "plt.xticks(rotation=90)\n",
    "plt.show()"
   ]
  },
  {
   "cell_type": "code",
   "execution_count": 68,
   "metadata": {},
   "outputs": [
    {
     "data": {
      "text/plain": [
       "array(['lstm_embed128', 'lstm_embed64', 'lstm_embed16', 'lstm_embed8',\n",
       "       'lstm_128', 'lstm_64', 'lstm_16', 'lstm_8', 'rnn_embed128',\n",
       "       'rnn_embed64', 'rnn_embed16', 'rnn_embed8', 'rnn_128', 'rnn_64',\n",
       "       'rnn_16', 'rnn_8', 'rnn_custom_embed128', 'rnn_custom_128',\n",
       "       'cnn_embed128', 'cnn_embed64', 'cnn_embed16', 'cnn_embed8',\n",
       "       'cnn_128', 'cnn_64', 'cnn_16', 'cnn_8'], dtype='<U19')"
      ]
     },
     "execution_count": 68,
     "metadata": {},
     "output_type": "execute_result"
    }
   ],
   "source": [
    "np.array(total_list)[:,0]"
   ]
  }
 ],
 "metadata": {
  "interpreter": {
   "hash": "ef7cd2e160683df5bc50936fdc15f17e8ae0d292a9877125d3322640160a1ab5"
  },
  "kernelspec": {
   "display_name": "Python 3.9.7 64-bit",
   "language": "python",
   "name": "python3"
  },
  "language_info": {
   "codemirror_mode": {
    "name": "ipython",
    "version": 3
   },
   "file_extension": ".py",
   "mimetype": "text/x-python",
   "name": "python",
   "nbconvert_exporter": "python",
   "pygments_lexer": "ipython3",
   "version": "3.9.7"
  },
  "orig_nbformat": 4
 },
 "nbformat": 4,
 "nbformat_minor": 2
}
